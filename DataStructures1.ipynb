{
 "cells": [
  {
   "cell_type": "code",
   "execution_count": null,
   "id": "3d65beb4",
   "metadata": {},
   "outputs": [],
   "source": [
    "import re\n",
    "import numpy as np\n",
    "import pandas as pd"
   ]
  },
  {
   "cell_type": "code",
   "execution_count": null,
   "id": "71f055a9",
   "metadata": {},
   "outputs": [],
   "source": [
    "m=re.match('tab','food on the table').group()\n",
    "print(m)"
   ]
  },
  {
   "cell_type": "code",
   "execution_count": null,
   "id": "02cc4e24",
   "metadata": {},
   "outputs": [],
   "source": [
    "k=\"food on the table\"\n",
    "m=re.search('ble',k).group()\n",
    "print(m)"
   ]
  },
  {
   "cell_type": "code",
   "execution_count": null,
   "id": "41545668",
   "metadata": {},
   "outputs": [],
   "source": [
    "#reverse an  array\n",
    "def reverseList(A,start,end):\n",
    "    while start<end:\n",
    "        A[start],A[end]=A[end],A[start]\n",
    "        start += 1\n",
    "        end -=1\n",
    "A=[1,2,3,5,6,7]\n",
    "reverseList(A,0,5)\n",
    "print(A)"
   ]
  },
  {
   "cell_type": "code",
   "execution_count": null,
   "id": "86608309",
   "metadata": {},
   "outputs": [],
   "source": [
    "A=[1,2,3,4,5,6]\n",
    "type(A)"
   ]
  },
  {
   "cell_type": "code",
   "execution_count": null,
   "id": "9b9eb17e",
   "metadata": {},
   "outputs": [],
   "source": [
    "A=np.array([1,2,3,4,5,6])\n",
    "type(A)"
   ]
  },
  {
   "cell_type": "code",
   "execution_count": null,
   "id": "6f17e845",
   "metadata": {},
   "outputs": [],
   "source": [
    "print(A[::-1])"
   ]
  },
  {
   "cell_type": "code",
   "execution_count": null,
   "id": "f8dceb0b",
   "metadata": {},
   "outputs": [],
   "source": [
    "#bubble sort"
   ]
  },
  {
   "cell_type": "code",
   "execution_count": null,
   "id": "5ef29373",
   "metadata": {},
   "outputs": [],
   "source": [
    "def bubble_sort(arr):\n",
    "    n=len(arr)\n",
    "    for i in range(n-1):\n",
    "        for j in range(n-i-1):\n",
    "            if arr[j]>arr[j+1]:\n",
    "                arr[j],arr[j+1]=arr[j+1],arr[j]\n",
    "arr=[34,4,23,54,3,45]\n",
    "display(arr)\n",
    "bubble_sort(arr)\n",
    "display(arr)"
   ]
  },
  {
   "cell_type": "code",
   "execution_count": null,
   "id": "f3705562",
   "metadata": {},
   "outputs": [],
   "source": [
    "# if already in sorted or sorted in one iteration ,to reduce time complexity"
   ]
  },
  {
   "cell_type": "code",
   "execution_count": null,
   "id": "09140121",
   "metadata": {},
   "outputs": [],
   "source": [
    "def buub(arr):\n",
    "    n=len(arr)\n",
    "    swapped=False\n",
    "    for i in range(n-1):\n",
    "        swapped=False\n",
    "\n",
    "        for j in range(n-i-1):\n",
    "            if arr[j]>arr[j+1]:\n",
    "                arr[j],arr[j+1]=arr[j+1],arr[j]\n",
    "                swapped=True\n",
    "        if not swapped:\n",
    "            break\n",
    "arr=[1,6,2,3,4,5]\n",
    "display(arr)\n",
    "bubble_sort(arr)\n",
    "display(arr)"
   ]
  },
  {
   "cell_type": "code",
   "execution_count": null,
   "id": "fe0c0121",
   "metadata": {},
   "outputs": [],
   "source": [
    "arr"
   ]
  },
  {
   "cell_type": "code",
   "execution_count": null,
   "id": "65f7f1fe",
   "metadata": {},
   "outputs": [],
   "source": [
    "\n",
    "k=int(input())\n",
    "a=[4,5,6,2,8,3,9]\n",
    "a.sort()\n",
    "a\n",
    "\n"
   ]
  },
  {
   "cell_type": "code",
   "execution_count": null,
   "id": "86b167f6",
   "metadata": {},
   "outputs": [],
   "source": [
    "a=1265\n",
    "reverse=0\n",
    "temp=a\n",
    "while a>1:\n",
    "    a=temp\n",
    "    reminder=temp%10\n",
    "    reverse=(reverse*10)+reminder\n",
    "    temp=temp//10\n",
    "print(reverse) \n",
    "    "
   ]
  },
  {
   "cell_type": "code",
   "execution_count": 1,
   "id": "c3ea76ff",
   "metadata": {},
   "outputs": [
    {
     "name": "stdout",
     "output_type": "stream",
     "text": [
      "[1, 11, 22, 33, 44, 55, 66, 77, 88, 99]\n"
     ]
    }
   ],
   "source": [
    "lis=[1,11,22,33,44,55,66,77,88,99]\n",
    "print(lis)"
   ]
  },
  {
   "cell_type": "code",
   "execution_count": 2,
   "id": "99351eaf",
   "metadata": {},
   "outputs": [
    {
     "data": {
      "text/plain": [
       "99"
      ]
     },
     "execution_count": 2,
     "metadata": {},
     "output_type": "execute_result"
    }
   ],
   "source": [
    "max_ele=max(lis)\n",
    "max_ele"
   ]
  },
  {
   "cell_type": "code",
   "execution_count": 3,
   "id": "f78f8884",
   "metadata": {},
   "outputs": [
    {
     "data": {
      "text/plain": [
       "[0, 1, 4, 9, 16, 25, 36, 49, 64, 81]"
      ]
     },
     "execution_count": 3,
     "metadata": {},
     "output_type": "execute_result"
    }
   ],
   "source": [
    "#list comprehension\n",
    "squared_num=[x**2 for x in range(10)]\n",
    "squared_num"
   ]
  },
  {
   "cell_type": "code",
   "execution_count": 5,
   "id": "14db8ae2",
   "metadata": {},
   "outputs": [
    {
     "data": {
      "text/plain": [
       "[22, 44, 66, 88]"
      ]
     },
     "execution_count": 5,
     "metadata": {},
     "output_type": "execute_result"
    }
   ],
   "source": [
    "#filter \n",
    "eve_num=list(filter(lambda x:x%2==0,lis))\n",
    "eve_num"
   ]
  },
  {
   "cell_type": "code",
   "execution_count": 6,
   "id": "4399fa06",
   "metadata": {},
   "outputs": [
    {
     "data": {
      "text/plain": [
       "[2, 22, 44, 66, 88, 110, 132, 154, 176, 198]"
      ]
     },
     "execution_count": 6,
     "metadata": {},
     "output_type": "execute_result"
    }
   ],
   "source": [
    "#map\n",
    "doubl_num=list(map(lambda x:x*2,lis))\n",
    "doubl_num"
   ]
  },
  {
   "cell_type": "code",
   "execution_count": 8,
   "id": "0895a561",
   "metadata": {},
   "outputs": [
    {
     "data": {
      "text/plain": [
       "496"
      ]
     },
     "execution_count": 8,
     "metadata": {},
     "output_type": "execute_result"
    }
   ],
   "source": [
    "total=sum(lis)\n",
    "total"
   ]
  },
  {
   "cell_type": "code",
   "execution_count": 10,
   "id": "35066039",
   "metadata": {},
   "outputs": [
    {
     "data": {
      "text/plain": [
       "True"
      ]
     },
     "execution_count": 10,
     "metadata": {},
     "output_type": "execute_result"
    }
   ],
   "source": [
    "all_true=all(lis)\n",
    "all_true"
   ]
  },
  {
   "cell_type": "code",
   "execution_count": 11,
   "id": "0f3adb37",
   "metadata": {},
   "outputs": [
    {
     "data": {
      "text/plain": [
       "True"
      ]
     },
     "execution_count": 11,
     "metadata": {},
     "output_type": "execute_result"
    }
   ],
   "source": [
    "an_true=any(lis)\n",
    "an_true"
   ]
  },
  {
   "cell_type": "code",
   "execution_count": 19,
   "id": "3483c02a",
   "metadata": {},
   "outputs": [
    {
     "data": {
      "text/plain": [
       "1"
      ]
     },
     "execution_count": 19,
     "metadata": {},
     "output_type": "execute_result"
    }
   ],
   "source": [
    "cou=lis.count(99)\n",
    "cou"
   ]
  },
  {
   "cell_type": "code",
   "execution_count": 21,
   "id": "1aad2632",
   "metadata": {},
   "outputs": [
    {
     "name": "stdout",
     "output_type": "stream",
     "text": [
      "[1, 11, 22, 33, 44, 55, 66, 77, 88, 99]\n",
      "[99, 88, 77, 66, 55, 44, 33, 22, 11, 1]\n"
     ]
    }
   ],
   "source": [
    "print(lis)\n",
    "rever=lis[::-1]\n",
    "print(rever)"
   ]
  },
  {
   "cell_type": "code",
   "execution_count": 28,
   "id": "51d44154",
   "metadata": {},
   "outputs": [
    {
     "name": "stdout",
     "output_type": "stream",
     "text": [
      "15\n",
      "the fact of  15 is  1307674368000\n"
     ]
    }
   ],
   "source": [
    "#factorial of num\n",
    "def fact(n):\n",
    "    if n==1:\n",
    "        return n\n",
    "    else:\n",
    "        return n*fact(n-1)\n",
    "n=int(input())\n",
    "if n<0:\n",
    "    print(\"fact not exist\")\n",
    "elif n==0:\n",
    "    print(\"Fact of 0 is 1\")\n",
    "else:\n",
    "    print(\"the fact of \",n, \"is \", fact(n))\n",
    "        "
   ]
  },
  {
   "cell_type": "code",
   "execution_count": 29,
   "id": "37c25e6e",
   "metadata": {},
   "outputs": [
    {
     "data": {
      "text/plain": [
       "['h', 'e', 'l', 'l', 'o']"
      ]
     },
     "execution_count": 29,
     "metadata": {},
     "output_type": "execute_result"
    }
   ],
   "source": [
    "a=list(\"hello\")\n",
    "a"
   ]
  },
  {
   "cell_type": "code",
   "execution_count": null,
   "id": "005dc1d3",
   "metadata": {},
   "outputs": [],
   "source": []
  }
 ],
 "metadata": {
  "kernelspec": {
   "display_name": "Python 3 (ipykernel)",
   "language": "python",
   "name": "python3"
  },
  "language_info": {
   "codemirror_mode": {
    "name": "ipython",
    "version": 3
   },
   "file_extension": ".py",
   "mimetype": "text/x-python",
   "name": "python",
   "nbconvert_exporter": "python",
   "pygments_lexer": "ipython3",
   "version": "3.7.8rc1"
  }
 },
 "nbformat": 4,
 "nbformat_minor": 5
}
