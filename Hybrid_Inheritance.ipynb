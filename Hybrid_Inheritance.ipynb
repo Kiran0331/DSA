{
 "cells": [
  {
   "cell_type": "markdown",
   "id": "bfca196c",
   "metadata": {},
   "source": [
    "# Hybrid Inheritance"
   ]
  },
  {
   "cell_type": "markdown",
   "id": "89755f4d",
   "metadata": {},
   "source": [
    "if child class inherit from multiple parents"
   ]
  },
  {
   "cell_type": "code",
   "execution_count": 9,
   "id": "e7ee975a",
   "metadata": {},
   "outputs": [
    {
     "name": "stdout",
     "output_type": "stream",
     "text": [
      "Employe Name Kiran and Employee Id is 001\n",
      "Dpartment Name is IT\n",
      "he is specialized in language python\n",
      "manages a team of size 5 \n"
     ]
    }
   ],
   "source": [
    "class Employee:\n",
    "    def __init__(self,name,emp_id):\n",
    "        self.name=name\n",
    "        self.emp_id=emp_id\n",
    "    def show_Employee_info(self):\n",
    "        print(f\"Employe Name {self.name} and Employee Id is {self.emp_id}\")\n",
    "class Manager(Employee):\n",
    "    def __init__(self,name,emp_id,Department):\n",
    "        super().__init__(name,emp_id)\n",
    "        self.Department=Department\n",
    "    def show_manager(self):\n",
    "        print(f\"Dpartment Name is {self.Department}\")\n",
    "class Developer(Manager):\n",
    "    def __init__(self,name,emp_id,Department,language):\n",
    "        super().__init__(name,emp_id,Department)\n",
    "        self.language=language\n",
    "    def show_developer_info(self):\n",
    "        print(f\"he is specialized in language {self.language}\")\n",
    "class Tech_lead(Developer):\n",
    "    def __init__(self,name,emp_id,Department,language,team_size):\n",
    "        super().__init__(name,emp_id,Department,language)\n",
    "        self.team_size=team_size\n",
    "    def show_tech_info(self):\n",
    "        print(f\"manages a team of size {self.team_size} \")\n",
    "        \n",
    "    def show_full_info(self):\n",
    "        self.show_Employee_info()\n",
    "        self.show_manager()\n",
    "        self.show_developer_info()\n",
    "        self.show_tech_info()\n",
    "lead=Tech_lead(\"Kiran\",\"001\",\"IT\",\"python\",5)\n",
    "lead.show_full_info()"
   ]
  },
  {
   "cell_type": "code",
   "execution_count": 2,
   "id": "752ce2cf",
   "metadata": {},
   "outputs": [
    {
     "ename": "SyntaxError",
     "evalue": "invalid syntax (795595155.py, line 14)",
     "output_type": "error",
     "traceback": [
      "\u001b[1;36m  File \u001b[1;32m\"C:\\Users\\user\\AppData\\Local\\Temp\\ipykernel_35440\\795595155.py\"\u001b[1;36m, line \u001b[1;32m14\u001b[0m\n\u001b[1;33m    def __init__(self,**kwargs,language):\u001b[0m\n\u001b[1;37m                                      ^\u001b[0m\n\u001b[1;31mSyntaxError\u001b[0m\u001b[1;31m:\u001b[0m invalid syntax\n"
     ]
    }
   ],
   "source": []
  },
  {
   "cell_type": "code",
   "execution_count": 5,
   "id": "abfb064f",
   "metadata": {},
   "outputs": [
    {
     "name": "stdout",
     "output_type": "stream",
     "text": [
      "Name: Suraj, ID: 5005\n",
      "Manages Department: IT\n",
      "Specialized in: Python\n",
      "Leads a team of 6 developers\n"
     ]
    }
   ],
   "source": [
    "class Employee:\n",
    "    def __init__(self, name, emp_id, **kwargs):\n",
    "        self.name = name\n",
    "        self.emp_id = emp_id\n",
    "    def show_employee(self):\n",
    "        print(f\"Name: {self.name}, ID: {self.emp_id}\")\n",
    "class Manager(Employee):\n",
    "    def __init__(self, department, **kwargs):\n",
    "        super().__init__(**kwargs)\n",
    "        self.department = department\n",
    "    def show_manager(self):\n",
    "        print(f\"Manages Department: {self.department}\")\n",
    "class Developer(Employee):\n",
    "    def __init__(self, language, **kwargs):\n",
    "        super().__init__(**kwargs)\n",
    "        self.language = language\n",
    "    def show_developer(self):\n",
    "        print(f\"Specialized in: {self.language}\")\n",
    "class TechLead(Manager, Developer):\n",
    "    def __init__(self, name, emp_id, department, language, team_size):\n",
    "        super().__init__(name=name, emp_id=emp_id, department=department, language=language)\n",
    "        self.team_size = team_size\n",
    "    def show_techlead(self):\n",
    "        print(f\"Leads a team of {self.team_size} developers\")\n",
    "    def show_full_info(self):\n",
    "        self.show_employee()\n",
    "        self.show_manager()\n",
    "        self.show_developer()\n",
    "        self.show_techlead()\n",
    "lead = TechLead(\"Suraj\", 5005, \"IT\", \"Python\", 6)\n",
    "lead.show_full_info()"
   ]
  },
  {
   "cell_type": "code",
   "execution_count": null,
   "id": "07a352ca",
   "metadata": {},
   "outputs": [],
   "source": []
  }
 ],
 "metadata": {
  "kernelspec": {
   "display_name": "Python 3 (ipykernel)",
   "language": "python",
   "name": "python3"
  },
  "language_info": {
   "codemirror_mode": {
    "name": "ipython",
    "version": 3
   },
   "file_extension": ".py",
   "mimetype": "text/x-python",
   "name": "python",
   "nbconvert_exporter": "python",
   "pygments_lexer": "ipython3",
   "version": "3.7.8rc1"
  }
 },
 "nbformat": 4,
 "nbformat_minor": 5
}
