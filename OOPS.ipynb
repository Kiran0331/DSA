{
 "cells": [
  {
   "cell_type": "code",
   "execution_count": 7,
   "id": "d00c98fd",
   "metadata": {},
   "outputs": [
    {
     "name": "stdout",
     "output_type": "stream",
     "text": [
      "hello\n",
      "hello\n",
      "kiran\n",
      "kiran\n"
     ]
    }
   ],
   "source": [
    "def mufunction():\n",
    "    global name\n",
    "    print(name)\n",
    "    name=\"kiran\"\n",
    "    print(name)\n",
    "name=\"hello\"\n",
    "print(name)\n",
    "mufunction()\n",
    "print(name)"
   ]
  },
  {
   "cell_type": "code",
   "execution_count": 6,
   "id": "dd8c8418",
   "metadata": {},
   "outputs": [
    {
     "name": "stdout",
     "output_type": "stream",
     "text": [
      "hello\n",
      "hello\n",
      "kiran\n",
      "kiran\n"
     ]
    }
   ],
   "source": [
    "def fun():\n",
    "    global name\n",
    "    print(name)\n",
    "    name=\"kiran\"\n",
    "    print(name)\n",
    "name=\"hello\"\n",
    "print(name)\n",
    "fun()\n",
    "print(name)"
   ]
  },
  {
   "cell_type": "code",
   "execution_count": 7,
   "id": "0fdee63a",
   "metadata": {},
   "outputs": [
    {
     "name": "stdout",
     "output_type": "stream",
     "text": [
      "kiran\n",
      "123441\n"
     ]
    }
   ],
   "source": [
    "class Student:\n",
    "    name=\"kiran\"\n",
    "    roll_no=123441\n",
    "    origin=\"india\"\n",
    "s1=Student()\n",
    "s2=Student()\n",
    "print(s1.name)\n",
    "print(s2.roll_no)"
   ]
  },
  {
   "cell_type": "code",
   "execution_count": 15,
   "id": "1563386a",
   "metadata": {},
   "outputs": [
    {
     "name": "stdout",
     "output_type": "stream",
     "text": [
      "enter your name kiran\n",
      "1\n",
      "kiran\n"
     ]
    }
   ],
   "source": [
    "class Stu():\n",
    "    def __init__(self,roll_no,name):\n",
    "        self.roll_no=roll_no\n",
    "        self.name=name\n",
    "temp=input(\"enter your name \")\n",
    "s1=Stu(1,temp)\n",
    "s2=Stu(2,\"hello\")\n",
    "\n",
    "print(s1.roll_no)\n",
    "print(s1.name)"
   ]
  },
  {
   "cell_type": "code",
   "execution_count": 1,
   "id": "d72f8acb",
   "metadata": {},
   "outputs": [
    {
     "name": "stdout",
     "output_type": "stream",
     "text": [
      "enter your name: kiran\n",
      "enter your name: alice\n",
      "1\n",
      "kiran\n",
      "2\n",
      "alice\n"
     ]
    }
   ],
   "source": [
    "counter=0\n",
    "class Student:\n",
    "    def __init__(self,roll_no,name):\n",
    "        self.roll_no=roll_no\n",
    "        self.name=name\n",
    "    def print_values(self):\n",
    "        print(self.roll_no)\n",
    "        print(self.name)\n",
    "def fetch_values():\n",
    "    global counter\n",
    "    counter+=1\n",
    "    temp=input('enter your name: ')\n",
    "    return counter,temp\n",
    "x,y=fetch_values()\n",
    "s1=Student(x,y)\n",
    "x,y=fetch_values()\n",
    "s2=Student(x,y)\n",
    "s1.print_values()\n",
    "s2.print_values()"
   ]
  },
  {
   "cell_type": "code",
   "execution_count": 7,
   "id": "91f74bbc",
   "metadata": {},
   "outputs": [
    {
     "name": "stdout",
     "output_type": "stream",
     "text": [
      "False\n"
     ]
    }
   ],
   "source": [
    "tuple1=(1,2,3,4)\n",
    "tuple2=(1,2,3,4)\n",
    "print(tuple1>tuple2)"
   ]
  },
  {
   "cell_type": "code",
   "execution_count": 8,
   "id": "d17ffd33",
   "metadata": {},
   "outputs": [
    {
     "name": "stdout",
     "output_type": "stream",
     "text": [
      "True\n"
     ]
    }
   ],
   "source": [
    "list1=[1,2,4,3]\n",
    "list2=[1,2,3,4]\n",
    "print(list1 != list2)"
   ]
  },
  {
   "cell_type": "code",
   "execution_count": 9,
   "id": "5d33606e",
   "metadata": {},
   "outputs": [],
   "source": [
    "import numpy as np"
   ]
  },
  {
   "cell_type": "code",
   "execution_count": 10,
   "id": "fa047e27",
   "metadata": {},
   "outputs": [
    {
     "name": "stdout",
     "output_type": "stream",
     "text": [
      "Standard deviation : 2.83\n",
      "Variance : 8.00\n"
     ]
    }
   ],
   "source": [
    "data=np.array([1,3,5,7,9])\n",
    "sd=np.std(data)\n",
    "vr=np.var(data)\n",
    "print(f\"Standard deviation : {sd:.2f}\")\n",
    "print(f\"Variance : {vr:.2f}\")"
   ]
  },
  {
   "cell_type": "code",
   "execution_count": 11,
   "id": "5cb879a7",
   "metadata": {},
   "outputs": [],
   "source": [
    "import turtle"
   ]
  },
  {
   "cell_type": "code",
   "execution_count": 16,
   "id": "47714e67",
   "metadata": {},
   "outputs": [],
   "source": [
    "import turtle\n",
    "t=turtle.Turtle()\n",
    "s=turtle.Screen()\n",
    "s.bgcolor('black')\n",
    "t.width(2)\n",
    "t.speed(15)\n",
    "\n",
    "color=('white','pink','cyan')\n",
    "for i in range (300):\n",
    "    t.pencolor(color[i%3])\n",
    "    t.forward(i*4)\n",
    "    t.right(121)"
   ]
  },
  {
   "cell_type": "code",
   "execution_count": 3,
   "id": "e22e8601",
   "metadata": {},
   "outputs": [
    {
     "data": {
      "text/plain": [
       "('c', 3)"
      ]
     },
     "execution_count": 3,
     "metadata": {},
     "output_type": "execute_result"
    }
   ],
   "source": [
    "my={'a':1,\"b\":2,'c':3}\n",
    "res=my.popitem()\n",
    "res"
   ]
  },
  {
   "cell_type": "code",
   "execution_count": 17,
   "id": "82d0369a",
   "metadata": {},
   "outputs": [
    {
     "name": "stdout",
     "output_type": "stream",
     "text": [
      "[1, 2, 3, 4, 5, [6, 7]]\n",
      "6\n"
     ]
    }
   ],
   "source": [
    "x=[1,2,3,4,5]\n",
    "\n",
    "lis.append([6,7])\n",
    "print(lis)\n",
    "print(len(lis))\n"
   ]
  },
  {
   "cell_type": "code",
   "execution_count": 10,
   "id": "dd4a1e0d",
   "metadata": {},
   "outputs": [
    {
     "name": "stdout",
     "output_type": "stream",
     "text": [
      "18.0\n"
     ]
    }
   ],
   "source": [
    "a=18.5\n",
    "b=int(a)\n",
    "print(float(b))"
   ]
  },
  {
   "cell_type": "code",
   "execution_count": 19,
   "id": "d13a7122",
   "metadata": {},
   "outputs": [
    {
     "name": "stdout",
     "output_type": "stream",
     "text": [
      "8\n"
     ]
    }
   ],
   "source": [
    "c=[1,2,8,9,52]\n",
    "print(c.pop(2))"
   ]
  },
  {
   "cell_type": "code",
   "execution_count": 18,
   "id": "e0ce8331",
   "metadata": {},
   "outputs": [
    {
     "name": "stdout",
     "output_type": "stream",
     "text": [
      "['1', '2', '3', '4']\n"
     ]
    }
   ],
   "source": [
    "x=['1']\n",
    "x.extend('234')\n",
    "print(x)"
   ]
  },
  {
   "cell_type": "code",
   "execution_count": 23,
   "id": "f8e80bd4",
   "metadata": {},
   "outputs": [
    {
     "name": "stdout",
     "output_type": "stream",
     "text": [
      "a , b , c , d\n"
     ]
    }
   ],
   "source": [
    "l=['a','b','c','d']\n",
    "print(\" , \".join(l))"
   ]
  },
  {
   "cell_type": "code",
   "execution_count": 1,
   "id": "8b45b390",
   "metadata": {},
   "outputs": [],
   "source": [
    "### OOPS Encapsulation"
   ]
  },
  {
   "cell_type": "markdown",
   "id": "d1d557bb",
   "metadata": {},
   "source": [
    "# private methods"
   ]
  },
  {
   "cell_type": "code",
   "execution_count": 7,
   "id": "8aec11dd",
   "metadata": {},
   "outputs": [
    {
     "data": {
      "text/plain": [
       "'name is Kiran and the value is 35'"
      ]
     },
     "execution_count": 7,
     "metadata": {},
     "output_type": "execute_result"
    }
   ],
   "source": [
    "class Myclass:\n",
    "    def __init__(self,value,name):\n",
    "        self.__value=value\n",
    "        self.name=name\n",
    "        \n",
    "    def __get_attribute(self):\n",
    "        return f\"name is {self .name} and the value is {self.__value}\"\n",
    "    \n",
    "obj1=Myclass(35,\"Kiran\")\n",
    "obj1._Myclass__get_attribute()"
   ]
  },
  {
   "cell_type": "code",
   "execution_count": null,
   "id": "5991bee4",
   "metadata": {},
   "outputs": [],
   "source": []
  }
 ],
 "metadata": {
  "kernelspec": {
   "display_name": "Python 3 (ipykernel)",
   "language": "python",
   "name": "python3"
  },
  "language_info": {
   "codemirror_mode": {
    "name": "ipython",
    "version": 3
   },
   "file_extension": ".py",
   "mimetype": "text/x-python",
   "name": "python",
   "nbconvert_exporter": "python",
   "pygments_lexer": "ipython3",
   "version": "3.7.8rc1"
  }
 },
 "nbformat": 4,
 "nbformat_minor": 5
}
