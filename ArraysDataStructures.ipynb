{
 "cells": [
  {
   "cell_type": "code",
   "execution_count": 1,
   "id": "5f661c85",
   "metadata": {},
   "outputs": [
    {
     "name": "stdout",
     "output_type": "stream",
     "text": [
      "enter the number of elements5\n",
      "6\n",
      "8\n",
      "13\n",
      "5\n",
      "29\n",
      "[6, 8, 13, 5, 29]\n",
      "the dublicate elements are : []\n"
     ]
    }
   ],
   "source": [
    "def dublicate(x):\n",
    "    size=len(x)\n",
    "    repeat=[]\n",
    "    for i in range(size):\n",
    "        k=i+1\n",
    "        for j in range(k,size):\n",
    "            if x[i]==x[j] and x[i] not in repeat:\n",
    "                repeat.append(x[i])\n",
    "    return repeat\n",
    "a=[]\n",
    "size=int(input('enter the number of elements'))\n",
    "for i in range(size):\n",
    "    a.append(int(input()))\n",
    "print(a)\n",
    "print(\"the dublicate elements are :\",dublicate(a))"
   ]
  },
  {
   "cell_type": "markdown",
   "id": "ea627bdc",
   "metadata": {},
   "source": [
    "## def findmindiff(arr,n,m):\n",
    "    if(m==0 or n==0):\n",
    "        return 0\n",
    "    arr.sort()\n",
    "    if n<m:\n",
    "        return -1\n",
    "    min_dif=arr[n-1]-arr[0]\n",
    "    for i in range(len(arr)-m+1):\n",
    "        min_dif=min_dif,arr[i+m-1]-arr[1]\n",
    "    return min_dif\n",
    "if __name__==\"__main__\":\n",
    "    arr=[1,23,4,78,4,2,23,12,24,52,46,12]\n",
    "    m=7\n",
    "    n=len(arr)\n",
    "    print(findmindiff(arr,n,m))\n",
    "    \n",
    "    "
   ]
  },
  {
   "cell_type": "code",
   "execution_count": null,
   "id": "dd0cabb7",
   "metadata": {},
   "outputs": [],
   "source": [
    "import pandas as pd"
   ]
  },
  {
   "cell_type": "code",
   "execution_count": null,
   "id": "f7c99ccf",
   "metadata": {},
   "outputs": [],
   "source": [
    "print(pd.__version__)"
   ]
  },
  {
   "cell_type": "code",
   "execution_count": null,
   "id": "7d5f5972",
   "metadata": {},
   "outputs": [],
   "source": [
    "arr=[1,2,3,4,5]\n",
    "s1=pd.Series(arr)\n",
    "s1"
   ]
  },
  {
   "cell_type": "code",
   "execution_count": null,
   "id": "e62a9b5c",
   "metadata": {},
   "outputs": [],
   "source": [
    "order=[0,2,3,4,5]\n",
    "s2=pd.Series(arr,index=order)\n",
    "s2"
   ]
  },
  {
   "cell_type": "code",
   "execution_count": null,
   "id": "288c9fc6",
   "metadata": {},
   "outputs": [],
   "source": [
    "import numpy as np\n",
    "n=np.random.randn(5)\n",
    "index=['a','b','c','d','e']\n",
    "s3=pd.Series(n,index=index)\n",
    "s3"
   ]
  },
  {
   "cell_type": "code",
   "execution_count": null,
   "id": "1100241e",
   "metadata": {},
   "outputs": [],
   "source": [
    "d={'a':1,'b':2,'c':3,'d':4,'e':5}\n",
    "s4=pd.Series(d)\n",
    "s4"
   ]
  },
  {
   "cell_type": "code",
   "execution_count": null,
   "id": "b2d79ede",
   "metadata": {},
   "outputs": [],
   "source": [
    "print(s1)\n",
    "s1.index=['A','B','C','D','E']\n",
    "s1"
   ]
  },
  {
   "cell_type": "code",
   "execution_count": null,
   "id": "a22fb626",
   "metadata": {},
   "outputs": [],
   "source": [
    "def findMinDiff(arr, n, m):\n",
    " \n",
    "    if (m == 0 or n == 0):\n",
    "        return 0\n",
    " \n",
    "    arr.sort()\n",
    " \n",
    "    if (n < m):\n",
    "        return -1\n",
    " \n",
    "    min_diff = arr[n-1] - arr[0]\n",
    " \n",
    "    for i in range(len(arr) - m + 1):\n",
    "        min_diff = min(min_diff,  arr[i + m - 1] - arr[i])\n",
    " \n",
    "    return min_diff\n",
    " \n",
    " \n",
    "if __name__ == \"__main__\":\n",
    "    arr = [12, 4, 7, 9, 2, 23, 25, 41,]\n",
    "    m = 7  \n",
    "    n = len(arr)\n",
    "    print(\"Minimum difference is\", findMinDiff(arr, n, m))"
   ]
  },
  {
   "cell_type": "code",
   "execution_count": null,
   "id": "d4dec763",
   "metadata": {},
   "outputs": [],
   "source": [
    "import numpy as np"
   ]
  },
  {
   "cell_type": "code",
   "execution_count": null,
   "id": "f4be94bc",
   "metadata": {},
   "outputs": [],
   "source": [
    "from numpy import *"
   ]
  },
  {
   "cell_type": "code",
   "execution_count": null,
   "id": "cdf09226",
   "metadata": {},
   "outputs": [],
   "source": [
    "b=array([\n",
    "    [65,45,67,69,89,99,44,33],\n",
    "         [56,84,89]\n",
    "        ])\n",
    "a=[]\n",
    "for j in b:\n",
    "    for i in j:\n",
    "        \n",
    "\n",
    "    \n",
    "        if i>40 and i<100:\n",
    "            if i%10==8:\n",
    "                t=i+2\n",
    "                a.append(t)\n",
    "            elif i%10==9:\n",
    "                t=i+1\n",
    "                a.append(t)\n",
    "\n",
    "            elif i%10==4:\n",
    "                t=i+1\n",
    "                a.append(t)\n",
    "\n",
    "            elif i%10==3:\n",
    "                t=i+2\n",
    "                a.append(t)        \n",
    "            else:\n",
    "                t=i\n",
    "                a.append(t)    \n",
    "print(a)\n",
    "\n",
    "            \n",
    "    "
   ]
  },
  {
   "cell_type": "code",
   "execution_count": null,
   "id": "58a6eb28",
   "metadata": {},
   "outputs": [],
   "source": [
    "round(59.9)"
   ]
  },
  {
   "cell_type": "code",
   "execution_count": 3,
   "id": "2c093e80",
   "metadata": {},
   "outputs": [],
   "source": [
    "from numpy import *\n",
    "a=array([\n",
    "            [1,0,0],\n",
    "            [0,1,0],\n",
    "            [0,0,1]\n",
    "         ])"
   ]
  },
  {
   "cell_type": "code",
   "execution_count": 4,
   "id": "f70f73b1",
   "metadata": {},
   "outputs": [
    {
     "name": "stdout",
     "output_type": "stream",
     "text": [
      "3\n"
     ]
    }
   ],
   "source": [
    "count=0\n",
    "for i in a:\n",
    "    for j in i:\n",
    "        if j==1:\n",
    "            count=count+1\n",
    "print(count)"
   ]
  },
  {
   "cell_type": "code",
   "execution_count": 5,
   "id": "82faa1b8",
   "metadata": {},
   "outputs": [],
   "source": [
    "b=array([\n",
    "    [1,-1,0],\n",
    "    [-1,1,1],\n",
    "    [0,1,1]\n",
    "])\n"
   ]
  },
  {
   "cell_type": "code",
   "execution_count": 6,
   "id": "5d29d1a6",
   "metadata": {},
   "outputs": [
    {
     "data": {
      "text/plain": [
       "5"
      ]
     },
     "execution_count": 6,
     "metadata": {},
     "output_type": "execute_result"
    }
   ],
   "source": [
    "count=0\n",
    "for i in b:\n",
    "    for j in i:\n",
    "        if j==1:\n",
    "            count+=1\n",
    "count"
   ]
  },
  {
   "cell_type": "code",
   "execution_count": 7,
   "id": "bb2258a1",
   "metadata": {},
   "outputs": [
    {
     "ename": "SyntaxError",
     "evalue": "invalid syntax (2294785625.py, line 8)",
     "output_type": "error",
     "traceback": [
      "\u001b[1;36m  File \u001b[1;32m\"C:\\Users\\user\\AppData\\Local\\Temp\\ipykernel_46532\\2294785625.py\"\u001b[1;36m, line \u001b[1;32m8\u001b[0m\n\u001b[1;33m    for i in range(len(arr)-m+1)\u001b[0m\n\u001b[1;37m                                ^\u001b[0m\n\u001b[1;31mSyntaxError\u001b[0m\u001b[1;31m:\u001b[0m invalid syntax\n"
     ]
    }
   ],
   "source": [
    "def findmindiff(arr,n,m):\n",
    "    if m==0 or n==0:\n",
    "        return 0\n",
    "    arr.sort()\n",
    "    if m>n:\n",
    "        return -1\n",
    "    min_diff=arr[n-1]-arr[0]\n",
    "    for i in range(len(arr)-m+1)"
   ]
  },
  {
   "cell_type": "code",
   "execution_count": 28,
   "id": "58e55768",
   "metadata": {},
   "outputs": [
    {
     "name": "stdout",
     "output_type": "stream",
     "text": [
      "4\n"
     ]
    }
   ],
   "source": [
    "s='How long do you  have to  sit dear'\n",
    "k=0\n",
    "count=0\n",
    "for i in s:\n",
    "    if i==\" \" or i==\",\" or i=='.' or i=='?'or i=='!' :\n",
    "        k+=1\n",
    "    if k==2:\n",
    "        count+=1\n",
    "print(count+1)\n",
    "        \n",
    "        \n",
    "        \n"
   ]
  },
  {
   "cell_type": "code",
   "execution_count": 1,
   "id": "d34ad3bc",
   "metadata": {},
   "outputs": [
    {
     "name": "stdout",
     "output_type": "stream",
     "text": [
      "Enter the first num10\n",
      "Enter the first num10\n",
      "the sum is 20\n",
      "the sub is 0\n",
      "the mul is 100\n",
      "the div is 1.0\n"
     ]
    }
   ],
   "source": [
    "Num1=int(input(\"Enter the first num\"))\n",
    "Num2=int(input(\"Enter the first num\"))\n",
    "summ=Num1+Num2\n",
    "sub=Num1-Num2\n",
    "mul=Num1*Num2\n",
    "div=Num2/Num1\n",
    "print(\"the sum is\",summ)\n",
    "print(\"the sub is\",sub)\n",
    "print(\"the mul is\",mul)\n",
    "print(\"the div is\",div)"
   ]
  },
  {
   "cell_type": "code",
   "execution_count": 15,
   "id": "5221c307",
   "metadata": {},
   "outputs": [
    {
     "name": "stdout",
     "output_type": "stream",
     "text": [
      "Enter the count of numbers3\n",
      "Enter the numbers2\n",
      "Enter the numbers5\n",
      "Enter the numbers8\n",
      "The array is [2, 5, 8]\n",
      "7\n"
     ]
    }
   ],
   "source": [
    "count=int(input(\"Enter the count of numbers\"))\n",
    "arr=[]\n",
    "for i in range(count):\n",
    "    num=int(input(\"Enter the numbers\"))\n",
    "    arr.append(num)\n",
    "print(\"The array is\",arr)\n",
    "smax=max(arr)\n",
    "print(smax-1)"
   ]
  },
  {
   "cell_type": "code",
   "execution_count": 3,
   "id": "7b1a05fa",
   "metadata": {},
   "outputs": [],
   "source": [
    "from array import *"
   ]
  },
  {
   "cell_type": "code",
   "execution_count": 7,
   "id": "69d5653b",
   "metadata": {},
   "outputs": [
    {
     "name": "stdout",
     "output_type": "stream",
     "text": [
      "enter the number of elements to be array4\n",
      "enter the values41\n",
      "enter the values42\n",
      "enter the values411\n",
      "enter the values422\n",
      "array('i', [41, 42, 411, 422])\n",
      "enter the value to search42\n",
      "1\n",
      "1\n"
     ]
    }
   ],
   "source": [
    "vals=array('i',[])\n",
    "n=int(input(\"enter the number of elements to be array\"))\n",
    "\n",
    "for i in range(n):\n",
    "    x=int(input(\"enter the values\"))\n",
    "    vals.append(x)\n",
    "print(vals)\n",
    "ele=int(input(\"enter the value to search\"))\n",
    "k=0\n",
    "for e in vals:\n",
    "    if e==ele:\n",
    "        print(k)\n",
    "        break\n",
    "    k+=1\n",
    "print(vals.index(ele))"
   ]
  },
  {
   "cell_type": "code",
   "execution_count": 1,
   "id": "7ff7d101",
   "metadata": {},
   "outputs": [],
   "source": [
    "input=[0,0,1]\n",
    "output=[1,0,0]"
   ]
  },
  {
   "cell_type": "code",
   "execution_count": 3,
   "id": "7b157414",
   "metadata": {},
   "outputs": [
    {
     "name": "stdout",
     "output_type": "stream",
     "text": [
      "[0, 1, 0]\n"
     ]
    }
   ],
   "source": [
    "def move_zeroes_end(nums):\n",
    "    n=len(nums)\n",
    "    for i in range(n):\n",
    "        if nums[i]==0:\n",
    "            nums.pop(i)\n",
    "            nums.append(0)\n",
    "    return nums\n",
    "input=[0,0,1]\n",
    "print(move_zeroes_end(input))"
   ]
  },
  {
   "cell_type": "code",
   "execution_count": null,
   "id": "46d8df15",
   "metadata": {},
   "outputs": [],
   "source": []
  }
 ],
 "metadata": {
  "kernelspec": {
   "display_name": "Python 3 (ipykernel)",
   "language": "python",
   "name": "python3"
  },
  "language_info": {
   "codemirror_mode": {
    "name": "ipython",
    "version": 3
   },
   "file_extension": ".py",
   "mimetype": "text/x-python",
   "name": "python",
   "nbconvert_exporter": "python",
   "pygments_lexer": "ipython3",
   "version": "3.7.8rc1"
  }
 },
 "nbformat": 4,
 "nbformat_minor": 5
}
